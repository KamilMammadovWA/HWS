{
  "nbformat": 4,
  "nbformat_minor": 0,
  "metadata": {
    "colab": {
      "provenance": []
    },
    "kernelspec": {
      "name": "python3",
      "display_name": "Python 3"
    },
    "language_info": {
      "name": "python"
    }
  },
  "cells": [
    {
      "cell_type": "code",
      "execution_count": null,
      "metadata": {
        "colab": {
          "base_uri": "https://localhost:8080/"
        },
        "id": "jrVeHsm1rpdT",
        "outputId": "2cf347f9-3081-4457-b1f3-9b1df0151ca0"
      },
      "outputs": [
        {
          "output_type": "stream",
          "name": "stdout",
          "text": [
            "What is your name? Hulisi\n",
            "What is your age? 43\n",
            "Your name is Hulisi. Your age is 43\n"
          ]
        }
      ],
      "source": [
        "#Q1-Get your name and age as input and print it in the form like\n",
        "#Your name is Hulisi. Your age is 43\n",
        "name=input('What is your name? ')\n",
        "age=input('What is your age? ')\n",
        "print(\"Your name is\", name, \".\" ,\"Your age is\", age)"
      ]
    },
    {
      "cell_type": "code",
      "source": [
        "#Q2-Write a if statement for a given two number is equal or not\n",
        "a=43\n",
        "b=54\n",
        "if (a==b):\n",
        "  print(\"a is equal to b \")\n",
        "else:\n",
        "  print(\"a is not equal to b\")\n"
      ],
      "metadata": {
        "id": "7Sfg03_PuVWa",
        "outputId": "975a0936-4759-4bdd-8023-a0200a7172bb",
        "colab": {
          "base_uri": "https://localhost:8080/"
        }
      },
      "execution_count": null,
      "outputs": [
        {
          "output_type": "stream",
          "name": "stdout",
          "text": [
            "a is not equal to b\n"
          ]
        }
      ]
    },
    {
      "cell_type": "code",
      "source": [
        "#Q3-Write a if statement for first number is greater (a), equal or less than second number.(b)\n",
        "a=11\n",
        "b=99\n",
        "if (a>b):\n",
        "  print(\"a is greater than second number\")\n",
        "elif (a<=b):\n",
        "  print(\"a is equal or less than second number\")\n",
        "\n"
      ],
      "metadata": {
        "id": "NtUibZ07u5gs",
        "outputId": "3465d838-00d7-499e-9351-d820f0e77a35",
        "colab": {
          "base_uri": "https://localhost:8080/"
        }
      },
      "execution_count": null,
      "outputs": [
        {
          "output_type": "stream",
          "name": "stdout",
          "text": [
            "a is equal or less than second number\n"
          ]
        }
      ]
    },
    {
      "cell_type": "code",
      "source": [
        "#Q4- Using for loop, print 1,2,3,4,5\n",
        "for k in range(1,6):\n",
        "  print(k)"
      ],
      "metadata": {
        "id": "U1UMQv36wNHP",
        "outputId": "e283ff18-a060-4c07-e8e5-4cf86d04726a",
        "colab": {
          "base_uri": "https://localhost:8080/"
        }
      },
      "execution_count": null,
      "outputs": [
        {
          "output_type": "stream",
          "name": "stdout",
          "text": [
            "1\n",
            "2\n",
            "3\n",
            "4\n",
            "5\n"
          ]
        }
      ]
    },
    {
      "cell_type": "code",
      "source": [
        "#Q5-Using while loop, print 5,4,3,2,1\n",
        "n=5\n",
        "while n>0:\n",
        "  print(n)\n",
        "  n=n-1"
      ],
      "metadata": {
        "id": "bh5Lga7XxGY8",
        "outputId": "1deef239-06e0-487a-83c7-8b573bfb328c",
        "colab": {
          "base_uri": "https://localhost:8080/"
        }
      },
      "execution_count": null,
      "outputs": [
        {
          "output_type": "stream",
          "name": "stdout",
          "text": [
            "5\n",
            "4\n",
            "3\n",
            "2\n",
            "1\n"
          ]
        }
      ]
    },
    {
      "cell_type": "code",
      "source": [
        "#Q6- Using for loop, print 10,6,4,2,0\n",
        "#Hint Print if number is not equal to 8.\n",
        "for k in range(10, 0, -2):\n",
        "  if k != 8:\n",
        "    print(k)"
      ],
      "metadata": {
        "id": "cXTTDS49xSoi",
        "outputId": "ddcb24b3-b61f-4110-f1e2-873bdba24cca",
        "colab": {
          "base_uri": "https://localhost:8080/"
        }
      },
      "execution_count": null,
      "outputs": [
        {
          "output_type": "stream",
          "name": "stdout",
          "text": [
            "10\n",
            "6\n",
            "4\n",
            "2\n"
          ]
        }
      ]
    },
    {
      "cell_type": "code",
      "source": [
        "#Q7-Write a method to calculate age for a given date of birth year.\n",
        "#Use this method on orer to calculate age of person if date of birth is 1944\n",
        "# if age is the name of function, print(age(1944))\n",
        "def agecalculation(a):\n",
        "  return 2024-a\n",
        "birthdate=int(input(\"Enter your date of birth: \"))\n",
        "agecalculation(birthdate)\n",
        "print(\"Your age is:\", agecalculation(birthdate))\n"
      ],
      "metadata": {
        "id": "geUjb-vuyYbF",
        "outputId": "e784ed9e-2370-4528-9c0c-db9a5a13ab09",
        "colab": {
          "base_uri": "https://localhost:8080/"
        }
      },
      "execution_count": null,
      "outputs": [
        {
          "output_type": "stream",
          "name": "stdout",
          "text": [
            "Enter your date of birth: 1944\n",
            "Your age is: 80\n"
          ]
        }
      ]
    },
    {
      "cell_type": "code",
      "source": [
        "#Q8-Write a class named arithmetic with method for calculating addition, substraction, multiplication and division of two numbers.\n",
        "class arithmetic:\n",
        "  def addition(x,y):\n",
        "    return x+y\n",
        "\n",
        "  def subtraction(x,y):\n",
        "    return x-y\n",
        "\n",
        "  def multiplication(x,y):\n",
        "    return(x*y)\n",
        "\n",
        "  def division(x,y):\n",
        "    return x/y\n",
        "\n",
        "print(arithmetic.addition(5,2))\n",
        "print(arithmetic.subtraction(5,2))\n",
        "print(arithmetic.multiplication(5,2))\n",
        "print(arithmetic.division(5,2))"
      ],
      "metadata": {
        "id": "YcyFzE3fzC7_",
        "outputId": "e4a76636-1ccd-4c23-fe65-152d00521892",
        "colab": {
          "base_uri": "https://localhost:8080/"
        }
      },
      "execution_count": null,
      "outputs": [
        {
          "output_type": "stream",
          "name": "stdout",
          "text": [
            "7\n",
            "3\n",
            "10\n",
            "2.5\n"
          ]
        }
      ]
    },
    {
      "cell_type": "code",
      "source": [
        "#Q9- write a for loop or method  to calculate summation of first n numbers\n",
        "#i.e if n=3, it will print or return 6 (1+2+3)\n",
        "n=3\n",
        "tsum=0\n",
        "for i in range(1, n+1):\n",
        "  tsum= tsum + i\n",
        "print(tsum)\n"
      ],
      "metadata": {
        "id": "AUJWr5YqzadI",
        "outputId": "fd316a14-f4c9-40e6-c8be-0596fd92e092",
        "colab": {
          "base_uri": "https://localhost:8080/"
        }
      },
      "execution_count": null,
      "outputs": [
        {
          "output_type": "stream",
          "name": "stdout",
          "text": [
            "6\n"
          ]
        }
      ]
    },
    {
      "cell_type": "code",
      "source": [
        "#Q10-Generate 10 numbers between 0 and 1 and add into list. Print first three elements of that list.\n",
        "import numpy as np\n",
        "l=[]\n",
        "for m in range (0,10):\n",
        "  l.append(float(np.random.rand()))\n",
        "print(l[0])\n",
        "print(l[1])\n",
        "print(l[2])"
      ],
      "metadata": {
        "id": "hmtvJdCL02qx",
        "outputId": "cb14f58f-1db6-4396-c093-3aa076f8fd59",
        "colab": {
          "base_uri": "https://localhost:8080/"
        }
      },
      "execution_count": null,
      "outputs": [
        {
          "output_type": "stream",
          "name": "stdout",
          "text": [
            "0.34643685540626956\n",
            "0.5499947629331028\n",
            "0.9881284399757551\n"
          ]
        }
      ]
    },
    {
      "cell_type": "code",
      "source": [
        "#Q11-For a given number n, print numbers divisible by 3 up to that number(n included)\n",
        "#Example: if n=15, print 3,6,9,12,15\n",
        "#Hint you can use modulus statement (if (i%3==0))\n",
        "n = 15\n",
        "for i in range(1, n + 1):\n",
        "  if i % 3 == 0:\n",
        "    print(i)\n"
      ],
      "metadata": {
        "id": "5O6Y2CujcAAs",
        "outputId": "b18d0e4a-0e03-4b4c-c049-9d9879e7f76f",
        "colab": {
          "base_uri": "https://localhost:8080/"
        }
      },
      "execution_count": null,
      "outputs": [
        {
          "output_type": "stream",
          "name": "stdout",
          "text": [
            "3\n",
            "6\n",
            "9\n",
            "12\n",
            "15\n"
          ]
        }
      ]
    }
  ]
}